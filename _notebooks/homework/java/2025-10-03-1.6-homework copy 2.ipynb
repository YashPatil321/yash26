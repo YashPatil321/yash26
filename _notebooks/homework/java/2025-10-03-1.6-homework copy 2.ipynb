{
 "cells": [
  {
   "cell_type": "markdown",
   "id": "297c03f6",
   "metadata": {},
   "source": [
    "---\n",
    "title: Compound Assignment\n",
    "comments: true\n",
    "layout: post\n",
    "permalink: /yphomework6\n",
    "description: 1.6 hw\n",
    "\n",
    "---\n"
   ]
  },
  {
   "cell_type": "markdown",
   "id": "d72e95df",
   "metadata": {},
   "source": [
    "## Hack 1"
   ]
  },
  {
   "cell_type": "code",
   "execution_count": 1,
   "id": "e69445e6",
   "metadata": {},
   "outputs": [
    {
     "name": "stdout",
     "output_type": "stream",
     "text": [
      "Score: 2500\n",
      "Health: 68\n",
      "Enemies Defeated: 1\n"
     ]
    }
   ],
   "source": [
    "int playerScore = 1000;\n",
    "int playerHealth = 100;\n",
    "int enemiesDefeated = 0;\n",
    "\n",
    "// Player defeats an enemy worth 250 points\n",
    "playerScore += 250;\n",
    "\n",
    "// Player takes 15 damage\n",
    "playerHealth -= 15;\n",
    "\n",
    "// Enemy count goes up\n",
    "enemiesDefeated++;\n",
    "\n",
    "// Boss battle: double the current score\n",
    "playerScore *= 2;\n",
    "\n",
    "// Healing potion restores health to 80% of current\n",
    "playerHealth *= 4;\n",
    "playerHealth /= 5;\n",
    "\n",
    "System.out.println(\"Score: \" + playerScore);\n",
    "System.out.println(\"Health: \" + playerHealth);\n",
    "System.out.println(\"Enemies Defeated: \" + enemiesDefeated);\n"
   ]
  },
  {
   "cell_type": "markdown",
   "id": "88cd6319",
   "metadata": {},
   "source": [
    "## HACK 2"
   ]
  },
  {
   "cell_type": "code",
   "execution_count": 4,
   "id": "321eab98",
   "metadata": {},
   "outputs": [
    {
     "name": "stdout",
     "output_type": "stream",
     "text": [
      "After wrong answer: 80\n",
      "After power-up: 160\n",
      "After dividing by 7, remainder: 6\n"
     ]
    }
   ],
   "source": [
    "int score = 100;\n",
    "\n",
    "// Deduct points for a wrong answer\n",
    "score -= 20;\n",
    "System.out.println(\"After wrong answer: \" + score);\n",
    "\n",
    "// Double the score with a power-up\n",
    "score *= 2;\n",
    "System.out.println(\"After power-up: \" + score);\n",
    "\n",
    "// Find remainder after dividing by 7\n",
    "score %= 7;\n",
    "System.out.println(\"After dividing by 7, remainder: \" + score);\n"
   ]
  },
  {
   "cell_type": "markdown",
   "id": "8bc565d0",
   "metadata": {},
   "source": [
    "## Java Project - Bank Account Manager"
   ]
  },
  {
   "cell_type": "code",
   "execution_count": 6,
   "id": "cb19353a",
   "metadata": {},
   "outputs": [
    {
     "name": "stdout",
     "output_type": "stream",
     "text": [
      "Starting balance: $2000\n",
      "Transactions made: 5\n",
      "Interest rate: 2.0%\n",
      "-----------------------------------\n",
      "After salary deposit: $3500\n",
      "After rent payment: $2700\n",
      "After interest applied: $2754\n",
      "After maintenance fee: $2704\n",
      "Updated number of transactions: 8\n",
      "Average balance per transaction: $338\n",
      "Remainder when balance is divided by 7: $2\n",
      "\n",
      "--- END OF SIMULATION ---\n"
     ]
    }
   ],
   "source": [
    "// --- BANK ACCOUNT MANAGER ---\n",
    "\n",
    "// Starting values\n",
    "int balance = 2000;\n",
    "int transactions = 5;\n",
    "double interestRate = 0.02; // 2%\n",
    "int fees = 50;\n",
    "\n",
    "System.out.println(\"Starting balance: $\" + balance);\n",
    "System.out.println(\"Transactions made: \" + transactions);\n",
    "System.out.println(\"Interest rate: \" + (interestRate * 100) + \"%\");\n",
    "System.out.println(\"-----------------------------------\");\n",
    "\n",
    "// Monthly salary deposit\n",
    "balance += 1500;\n",
    "System.out.println(\"After salary deposit: $\" + balance);\n",
    "\n",
    "// Subtract rent payment\n",
    "balance -= 800;\n",
    "System.out.println(\"After rent payment: $\" + balance);\n",
    "\n",
    "// Apply monthly interest\n",
    "balance *= (1 + interestRate);\n",
    "System.out.println(\"After interest applied: $\" + balance);\n",
    "\n",
    "// Deduct bank maintenance fees\n",
    "balance -= fees;\n",
    "System.out.println(\"After maintenance fee: $\" + balance);\n",
    "\n",
    "// Add new transactions\n",
    "transactions += 3;\n",
    "System.out.println(\"Updated number of transactions: \" + transactions);\n",
    "\n",
    "// Calculate average spend per transaction\n",
    "int avgSpend = balance / transactions;\n",
    "System.out.println(\"Average balance per transaction: $\" + avgSpend);\n",
    "\n",
    "// Check leftover balance divided by 7 (random metric)\n",
    "balance %= 7;\n",
    "System.out.println(\"Remainder when balance is divided by 7: $\" + balance);\n",
    "\n",
    "System.out.println(\"\\n--- END OF SIMULATION ---\");\n"
   ]
  }
 ],
 "metadata": {
  "kernelspec": {
   "display_name": "Java",
   "language": "java",
   "name": "java"
  },
  "language_info": {
   "codemirror_mode": "java",
   "file_extension": ".jshell",
   "mimetype": "text/x-java-source",
   "name": "java",
   "pygments_lexer": "java",
   "version": "17.0.16+8-Ubuntu-0ubuntu124.04.1"
  }
 },
 "nbformat": 4,
 "nbformat_minor": 5
}
