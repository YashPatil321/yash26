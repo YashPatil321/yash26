{
 "cells": [
  {
   "cell_type": "markdown",
   "id": "297c03f6",
   "metadata": {},
   "source": [
    "---\n",
    "title: Casting and Range of Variables\n",
    "comments: true\n",
    "layout: post\n",
    "permalink: /yphomework2\n",
    "description: 1.5 hw\n",
    "\n",
    "---\n"
   ]
  },
  {
   "cell_type": "markdown",
   "id": "d72e95df",
   "metadata": {},
   "source": [
    "## Hack 1"
   ]
  },
  {
   "cell_type": "code",
   "execution_count": 24,
   "id": "e69445e6",
   "metadata": {
    "vscode": {
     "languageId": "java"
    }
   },
   "outputs": [
    {
     "name": "stdout",
     "output_type": "stream",
     "text": [
      "7.5\n"
     ]
    }
   ],
   "source": [
    "int a = 7;\n",
    "int b = 8;\n",
    "double average = (a + b) / 2.0;\n",
    "System.out.println(average);"
   ]
  },
  {
   "cell_type": "code",
   "execution_count": null,
   "id": "d73db724",
   "metadata": {
    "vscode": {
     "languageId": "java"
    }
   },
   "outputs": [],
   "source": []
  },
  {
   "cell_type": "markdown",
   "id": "88cd6319",
   "metadata": {},
   "source": [
    "## HACK 2"
   ]
  },
  {
   "cell_type": "code",
   "execution_count": 27,
   "id": "321eab98",
   "metadata": {
    "vscode": {
     "languageId": "java"
    }
   },
   "outputs": [
    {
     "name": "stdout",
     "output_type": "stream",
     "text": [
      "75.0\n"
     ]
    }
   ],
   "source": [
    "int correct = 45;\n",
    "int total = 60;\n",
    "if (total == 0) {\n",
    "    System.out.println(0.0);\n",
    "} else {\n",
    "    double pct = (double) correct / total * 100;\n",
    "    System.out.println(pct);\n",
    "}"
   ]
  },
  {
   "cell_type": "markdown",
   "id": "8bc565d0",
   "metadata": {},
   "source": [
    "## HACK 3"
   ]
  },
  {
   "cell_type": "code",
   "execution_count": 29,
   "id": "cb19353a",
   "metadata": {
    "vscode": {
     "languageId": "java"
    }
   },
   "outputs": [
    {
     "name": "stdout",
     "output_type": "stream",
     "text": [
      "1\n"
     ]
    }
   ],
   "source": [
    "int x = 10;\n",
    "int y = 3;\n",
    "if (y == 0) {\n",
    "    System.out.println(0);\n",
    "} else {\n",
    "    System.out.println(x % y);\n",
    "}"
   ]
  }
 ],
 "metadata": {
  "kernelspec": {
   "display_name": "Java",
   "language": "java",
   "name": "java"
  },
  "language_info": {
   "codemirror_mode": "java",
   "file_extension": ".jshell",
   "mimetype": "text/x-java-source",
   "name": "Java",
   "pygments_lexer": "java",
   "version": "17.0.16+8-Ubuntu-0ubuntu124.04.1"
  }
 },
 "nbformat": 4,
 "nbformat_minor": 5
}
