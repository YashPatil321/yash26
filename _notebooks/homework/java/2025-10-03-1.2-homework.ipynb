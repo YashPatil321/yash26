{
 "cells": [
  {
   "cell_type": "markdown",
   "id": "297c03f6",
   "metadata": {},
   "source": [
    "---\n",
    "title: Variables and Data Types\n",
    "comments: true\n",
    "layout: post\n",
    "permalink: /1.2yashhw\n",
    "description: 1.2 hw\n",
    "\n",
    "---\n"
   ]
  },
  {
   "cell_type": "markdown",
   "id": "d72e95df",
   "metadata": {},
   "source": [
    "## Hack 1"
   ]
  },
  {
   "cell_type": "code",
   "execution_count": 4,
   "id": "e69445e6",
   "metadata": {
    "vscode": {
     "languageId": "java"
    }
   },
   "outputs": [
    {
     "name": "stdout",
     "output_type": "stream",
     "text": [
      "Favorite food: Pizza\n",
      "Age: 16\n",
      "Height: 5.5 feet\n",
      "Likes pizza: true\n",
      "Favorite color starts with: B\n",
      "Born in: 2008\n"
     ]
    }
   ],
   "source": [
    "public class MyFavoriteThings {\n",
    "    public static void main(String[] args) {\n",
    "        // Your variables\n",
    "        String favoriteFood = \"Pizza\";\n",
    "        int myAge = 16;\n",
    "        double heightInFeet = 5.5;\n",
    "        boolean likesPizza = true;\n",
    "        char colorFirstLetter = 'B'; // Blue\n",
    "        final int BIRTH_YEAR = 2008; // constant because it never changes\n",
    "\n",
    "        // Print them out\n",
    "        System.out.println(\"Favorite food: \" + favoriteFood);\n",
    "        System.out.println(\"Age: \" + myAge);\n",
    "        System.out.println(\"Height: \" + heightInFeet + \" feet\");\n",
    "        System.out.println(\"Likes pizza: \" + likesPizza);\n",
    "        System.out.println(\"Favorite color starts with: \" + colorFirstLetter);\n",
    "        System.out.println(\"Born in: \" + BIRTH_YEAR);\n",
    "    }\n",
    "}\n",
    "// class method to run the java.\n",
    "MyFavoriteThings.main(null);\n"
   ]
  },
  {
   "cell_type": "markdown",
   "id": "88cd6319",
   "metadata": {},
   "source": [
    "## HACK 2"
   ]
  },
  {
   "cell_type": "code",
   "execution_count": 5,
   "id": "321eab98",
   "metadata": {
    "vscode": {
     "languageId": "java"
    }
   },
   "outputs": [
    {
     "name": "stdout",
     "output_type": "stream",
     "text": [
      "Siblings: 2\n",
      "Name: Yash\n",
      "Hungry: false\n",
      "Favorite letter: Y\n",
      "Height: 69.5 inches\n",
      "Days per year: 365\n"
     ]
    }
   ],
   "source": [
    "public class PickTheType {\n",
    "    public static void main(String[] args) {\n",
    "        // 1. Number of siblings → int (whole number)\n",
    "        int siblings = 2;\n",
    "\n",
    "        // 2. Your first name → String (text/words)\n",
    "        String firstName = \"Yash\";\n",
    "\n",
    "        // 3. Are you hungry? → boolean (true/false)\n",
    "        boolean isHungry = false;\n",
    "\n",
    "        // 4. Your favorite letter → char (single character)\n",
    "        char favoriteLetter = 'Y';\n",
    "\n",
    "        // 5. Your height in inches → double (decimals allowed)\n",
    "        double heightInches = 69.5;\n",
    "\n",
    "        // 6. Days in a year → final int (never changes, whole number)\n",
    "        final int DAYS_IN_YEAR = 365;\n",
    "\n",
    "        // Print results\n",
    "        System.out.println(\"Siblings: \" + siblings);\n",
    "        System.out.println(\"Name: \" + firstName);\n",
    "        System.out.println(\"Hungry: \" + isHungry);\n",
    "        System.out.println(\"Favorite letter: \" + favoriteLetter);\n",
    "        System.out.println(\"Height: \" + heightInches + \" inches\");\n",
    "        System.out.println(\"Days per year: \" + DAYS_IN_YEAR);\n",
    "    }\n",
    "}\n",
    "\n",
    "PickTheType.main(null);\n"
   ]
  },
  {
   "cell_type": "markdown",
   "id": "8bc565d0",
   "metadata": {},
   "source": [
    "## HACK 3 Grade Calculator"
   ]
  },
  {
   "cell_type": "code",
   "execution_count": 6,
   "id": "cb19353a",
   "metadata": {
    "vscode": {
     "languageId": "java"
    }
   },
   "outputs": [
    {
     "name": "stdout",
     "output_type": "stream",
     "text": [
      "Student: Yash\n",
      "Class: AP Computer Science\n",
      "Scores: 87, 94, 76\n",
      "Average: 85.66666666666667\n",
      "Letter Grade: B\n"
     ]
    }
   ],
   "source": [
    "public class GradeCalculator {\n",
    "    public static void main(String[] args) {\n",
    "        // Final variables (these never change)\n",
    "        final String STUDENT_NAME = \"Yash\";\n",
    "        final String CLASS_NAME = \"AP Computer Science\";\n",
    "\n",
    "        // Test scores (whole numbers 0-100)\n",
    "        int test1 = 87;\n",
    "        int test2 = 94;\n",
    "        int test3 = 76;\n",
    "\n",
    "        // Calculate average\n",
    "        double average = (test1 + test2 + test3) / 3.0;\n",
    "\n",
    "        // Determine letter grade\n",
    "        char letterGrade;\n",
    "        if (average >= 90) {\n",
    "            letterGrade = 'A';\n",
    "        } else if (average >= 80) {\n",
    "            letterGrade = 'B';\n",
    "        } else if (average >= 70) {\n",
    "            letterGrade = 'C';\n",
    "        } else if (average >= 60) {\n",
    "            letterGrade = 'D';\n",
    "        } else {\n",
    "            letterGrade = 'F';\n",
    "        }\n",
    "\n",
    "        // Output\n",
    "        System.out.println(\"Student: \" + STUDENT_NAME);\n",
    "        System.out.println(\"Class: \" + CLASS_NAME);\n",
    "        System.out.println(\"Scores: \" + test1 + \", \" + test2 + \", \" + test3);\n",
    "        System.out.println(\"Average: \" + average);\n",
    "        System.out.println(\"Letter Grade: \" + letterGrade);\n",
    "    }\n",
    "}\n",
    "\n",
    "GradeCalculator.main(null);"
   ]
  }
 ],
 "metadata": {
  "kernelspec": {
   "display_name": "Java",
   "language": "java",
   "name": "java"
  },
  "language_info": {
   "codemirror_mode": "java",
   "file_extension": ".jshell",
   "mimetype": "text/x-java-source",
   "name": "Java",
   "pygments_lexer": "java",
   "version": "17.0.16+8-Ubuntu-0ubuntu124.04.1"
  }
 },
 "nbformat": 4,
 "nbformat_minor": 5
}
