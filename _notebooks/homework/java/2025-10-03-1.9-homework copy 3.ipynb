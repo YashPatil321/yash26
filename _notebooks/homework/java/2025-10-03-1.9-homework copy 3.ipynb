{
 "cells": [
  {
   "cell_type": "markdown",
   "id": "297c03f6",
   "metadata": {},
   "source": [
    "---\n",
    "title: Compound Assignment\n",
    "comments: true\n",
    "layout: post\n",
    "permalink: /yphomework9\n",
    "description: 1.9 hw\n",
    "\n",
    "---\n"
   ]
  },
  {
   "cell_type": "markdown",
   "id": "d72e95df",
   "metadata": {},
   "source": [
    "## Hack 1"
   ]
  },
  {
   "cell_type": "code",
   "execution_count": 7,
   "id": "e69445e6",
   "metadata": {
    "vscode": {
     "languageId": "java"
    }
   },
   "outputs": [
    {
     "name": "stdout",
     "output_type": "stream",
     "text": [
      "9\n",
      "-2\n",
      "3.5\n",
      "2.0\n"
     ]
    }
   ],
   "source": [
    "public class PopcornMax {\n",
    "\n",
    "    // int version\n",
    "    public static int max(int a, int b) {\n",
    "        if (a > b)\n",
    "            return a;\n",
    "        else\n",
    "            return b;\n",
    "    }\n",
    "\n",
    "    // double version\n",
    "    public static double max(double a, double b) {\n",
    "        if (a > b)\n",
    "            return a;\n",
    "        else\n",
    "            return b;\n",
    "    }\n",
    "\n",
    "    public static void main(String[] args) {\n",
    "        System.out.println(max(3, 9));     // expected: 9\n",
    "        System.out.println(max(-2, -7));   // expected: -2\n",
    "        System.out.println(max(3.5, 2.9)); // expected: 3.5\n",
    "        System.out.println(max(2, 2.0));   // expected: 2.0\n",
    "    }\n",
    "}\n",
    "\n",
    "PopcornMax.main(null)\n"
   ]
  },
  {
   "cell_type": "markdown",
   "id": "88cd6319",
   "metadata": {},
   "source": [
    "## HACK 2"
   ]
  },
  {
   "cell_type": "code",
   "execution_count": 8,
   "id": "321eab98",
   "metadata": {
    "vscode": {
     "languageId": "java"
    }
   },
   "outputs": [
    {
     "name": "stdout",
     "output_type": "stream",
     "text": [
      "int:42\n",
      "str:hello\n",
      "str:A!\n"
     ]
    }
   ],
   "source": [
    "public class PopcornPrint {\n",
    "\n",
    "    // int version\n",
    "    public static void print(int n) {\n",
    "        System.out.println(\"int:\" + n);\n",
    "    }\n",
    "\n",
    "    // String version\n",
    "    public static void print(String s) {\n",
    "        System.out.println(\"str:\" + s);\n",
    "    }\n",
    "\n",
    "    public static void main(String[] args) {\n",
    "        print(42);         // expected: int:42\n",
    "        print(\"hello\");    // expected: str:hello\n",
    "        print('A' + \"!\");  // expected: str:A!\n",
    "    }\n",
    "}\n",
    "\n",
    "PopcornPrint.main(null);\n",
    "\n"
   ]
  },
  {
   "cell_type": "markdown",
   "id": "8bc565d0",
   "metadata": {},
   "source": [
    "## Short Answer"
   ]
  },
  {
   "cell_type": "markdown",
   "id": "cb19353a",
   "metadata": {},
   "source": [
    "Because they have identical parameter lists, so the compiler can’t distinguish them return type doesn’t affect overloading.\n",
    "\n",
    "\n",
    "Parameters are variables in the method definitionl arguments are the actual values passed during the call"
   ]
  },
  {
   "cell_type": "markdown",
   "id": "0111a8c9",
   "metadata": {},
   "source": [
    "## Coding Task"
   ]
  },
  {
   "cell_type": "code",
   "execution_count": 9,
   "id": "05124ffd",
   "metadata": {
    "vscode": {
     "languageId": "java"
    }
   },
   "outputs": [
    {
     "name": "stdout",
     "output_type": "stream",
     "text": [
      "5\n",
      "3.2\n",
      "9\n",
      "hithere\n",
      "yoyoyo\n",
      "int\n",
      "long\n",
      "double\n"
     ]
    }
   ],
   "source": [
    "public class OverloadPractice {\n",
    "\n",
    "    // 1) Three overloads of abs\n",
    "    public static int abs(int x) {\n",
    "        return x < 0 ? -x : x;\n",
    "    }\n",
    "\n",
    "    public static double abs(double x) {\n",
    "        return x < 0 ? -x : x;\n",
    "    }\n",
    "\n",
    "    public static long abs(long x) {\n",
    "        return x < 0 ? -x : x;\n",
    "    }\n",
    "\n",
    "    // 2) Two overloads of concat\n",
    "    public static String concat(String a, String b) {\n",
    "        return a + b;\n",
    "    }\n",
    "\n",
    "    public static String concat(String a, int n) {\n",
    "        String result = \"\";\n",
    "        for (int i = 0; i < n; i++) {\n",
    "            result += a;\n",
    "        }\n",
    "        return result;\n",
    "    }\n",
    "\n",
    "    // 3) Overloaded show methods\n",
    "    public static void show(int x) {\n",
    "        System.out.println(\"int\");\n",
    "    }\n",
    "\n",
    "    public static void show(double x) {\n",
    "        System.out.println(\"double\");\n",
    "    }\n",
    "\n",
    "    public static void show(long x) {\n",
    "        System.out.println(\"long\");\n",
    "    }\n",
    "\n",
    "    // Main to test all\n",
    "    public static void main(String[] args) {\n",
    "        System.out.println(abs(-5));      // 5\n",
    "        System.out.println(abs(-3.2));    // 3.2\n",
    "        System.out.println(abs(-9L));     // 9\n",
    "\n",
    "        System.out.println(concat(\"hi\", \"there\"));  // hithere\n",
    "        System.out.println(concat(\"yo\", 3));        // yoyo\n",
    "\n",
    "        show(7);    // int\n",
    "        show(7L);   // long\n",
    "        show(7.0);  // double\n",
    "    }\n",
    "}\n",
    "OverloadPractice.main(null);"
   ]
  },
  {
   "cell_type": "markdown",
   "id": "ee3f41d4",
   "metadata": {},
   "source": [
    "## FRQ 1/2"
   ]
  },
  {
   "cell_type": "code",
   "execution_count": null,
   "id": "217a4eea",
   "metadata": {
    "vscode": {
     "languageId": "java"
    }
   },
   "outputs": [
    {
     "name": "stdout",
     "output_type": "stream",
     "text": [
      "1\n",
      "1\n",
      "-1\n",
      "5\n",
      "10\n",
      "1\n",
      "5.5\n"
     ]
    }
   ],
   "source": [
    "public class FRQTasks {\n",
    "\n",
    "    // FRQ 1: indexOf for char\n",
    "    public static int indexOf(char target, String s) {\n",
    "        for (int i = 0; i < s.length(); i++) {\n",
    "            if (s.charAt(i) == target) {\n",
    "                return i;\n",
    "            }\n",
    "        }\n",
    "        return -1;\n",
    "    }\n",
    "\n",
    "    // FRQ 1: indexOf for substring\n",
    "    public static int indexOf(String target, String s) {\n",
    "        for (int i = 0; i <= s.length() - target.length(); i++) {\n",
    "            boolean match = true;\n",
    "            for (int j = 0; j < target.length(); j++) {\n",
    "                if (s.charAt(i + j) != target.charAt(j)) {\n",
    "                    match = false;\n",
    "                    break;\n",
    "                }\n",
    "            }\n",
    "            if (match) return i;\n",
    "        }\n",
    "        return -1;\n",
    "    }\n",
    "\n",
    "    // FRQ 2: clamp for int\n",
    "    public static int clamp(int value, int low, int high) {\n",
    "        if (low > high) {\n",
    "            int temp = low;\n",
    "            low = high;\n",
    "            high = temp;\n",
    "        }\n",
    "        if (value < low) return low;\n",
    "        if (value > high) return high;\n",
    "        return value;\n",
    "    }\n",
    "\n",
    "    // FRQ 2: clamp for double\n",
    "    public static double clamp(double value, double low, double high) {\n",
    "        if (low > high) {\n",
    "            double temp = low;\n",
    "            low = high;\n",
    "            high = temp;\n",
    "        }\n",
    "        if (value < low) return low;\n",
    "        if (value > high) return high;\n",
    "        return value;\n",
    "    }\n",
    "\n",
    "    public static void main(String[] args) {\n",
    "        // test indexOf\n",
    "        System.out.println(indexOf('a', \"banana\"));     // 1\n",
    "        System.out.println(indexOf(\"ana\", \"banana\"));   // 1\n",
    "        System.out.println(indexOf('z', \"banana\"));     // -1\n",
    "\n",
    "        // test clamp\n",
    "        System.out.println(clamp(5, 1, 10));            // 5\n",
    "        System.out.println(clamp(12, 1, 10));           // 106\n",
    "        System.out.println(clamp(-3, 1, 10));           // 1\n",
    "        System.out.println(clamp(5.5, 10.0, 0.0));      // 5.5\n",
    "    }\n",
    "}\n",
    "FRQTasks.main(null);"
   ]
  }
 ],
 "metadata": {
  "kernelspec": {
   "display_name": "Java",
   "language": "java",
   "name": "java"
  },
  "language_info": {
   "codemirror_mode": "java",
   "file_extension": ".jshell",
   "mimetype": "text/x-java-source",
   "name": "Java",
   "pygments_lexer": "java",
   "version": "17.0.16+8-Ubuntu-0ubuntu124.04.1"
  }
 },
 "nbformat": 4,
 "nbformat_minor": 5
}
